{
 "cells": [
  {
   "cell_type": "code",
   "execution_count": 1,
   "id": "b0e0442d",
   "metadata": {
    "_cell_guid": "b1076dfc-b9ad-4769-8c92-a6c4dae69d19",
    "_uuid": "8f2839f25d086af736a60e9eeb907d3b93b6e0e5",
    "execution": {
     "iopub.execute_input": "2023-06-14T06:53:44.469063Z",
     "iopub.status.busy": "2023-06-14T06:53:44.468529Z",
     "iopub.status.idle": "2023-06-14T06:53:44.502095Z",
     "shell.execute_reply": "2023-06-14T06:53:44.501152Z"
    },
    "papermill": {
     "duration": 0.046878,
     "end_time": "2023-06-14T06:53:44.504991",
     "exception": false,
     "start_time": "2023-06-14T06:53:44.458113",
     "status": "completed"
    },
    "tags": []
   },
   "outputs": [
    {
     "name": "stdout",
     "output_type": "stream",
     "text": [
      "/kaggle/input/sign-language-mnist/sign_mnist_test.csv\n",
      "/kaggle/input/sign-language-mnist/amer_sign2.png\n",
      "/kaggle/input/sign-language-mnist/amer_sign3.png\n",
      "/kaggle/input/sign-language-mnist/sign_mnist_train.csv\n",
      "/kaggle/input/sign-language-mnist/american_sign_language.PNG\n",
      "/kaggle/input/sign-language-mnist/sign_mnist_test/sign_mnist_test.csv\n",
      "/kaggle/input/sign-language-mnist/sign_mnist_train/sign_mnist_train.csv\n"
     ]
    }
   ],
   "source": [
    "# This Python 3 environment comes with many helpful analytics libraries installed\n",
    "# It is defined by the kaggle/python Docker image: https://github.com/kaggle/docker-python\n",
    "# For example, here's several helpful packages to load\n",
    "\n",
    "import numpy as np # linear algebra\n",
    "import pandas as pd # data processing, CSV file I/O (e.g. pd.read_csv)\n",
    "\n",
    "# Input data files are available in the read-only \"../input/\" directory\n",
    "# For example, running this (by clicking run or pressing Shift+Enter) will list all files under the input directory\n",
    "\n",
    "import os\n",
    "for dirname, _, filenames in os.walk('/kaggle/input'):\n",
    "    for filename in filenames:\n",
    "        print(os.path.join(dirname, filename))\n",
    "\n",
    "# You can write up to 20GB to the current directory (/kaggle/working/) that gets preserved as output when you create a version using \"Save & Run All\" \n",
    "# You can also write temporary files to /kaggle/temp/, but they won't be saved outside of the current session"
   ]
  },
  {
   "cell_type": "markdown",
   "id": "00688716",
   "metadata": {
    "papermill": {
     "duration": 0.008246,
     "end_time": "2023-06-14T06:53:44.522211",
     "exception": false,
     "start_time": "2023-06-14T06:53:44.513965",
     "status": "completed"
    },
    "tags": []
   },
   "source": [
    "## 1. Importing the desired libraries"
   ]
  },
  {
   "cell_type": "code",
   "execution_count": 2,
   "id": "aa0ba8f3",
   "metadata": {
    "execution": {
     "iopub.execute_input": "2023-06-14T06:53:44.540801Z",
     "iopub.status.busy": "2023-06-14T06:53:44.540479Z",
     "iopub.status.idle": "2023-06-14T06:53:52.631727Z",
     "shell.execute_reply": "2023-06-14T06:53:52.630746Z"
    },
    "papermill": {
     "duration": 8.102851,
     "end_time": "2023-06-14T06:53:52.634087",
     "exception": false,
     "start_time": "2023-06-14T06:53:44.531236",
     "status": "completed"
    },
    "tags": []
   },
   "outputs": [
    {
     "name": "stderr",
     "output_type": "stream",
     "text": [
      "/opt/conda/lib/python3.10/site-packages/tensorflow_io/python/ops/__init__.py:98: UserWarning: unable to load libtensorflow_io_plugins.so: unable to open file: libtensorflow_io_plugins.so, from paths: ['/opt/conda/lib/python3.10/site-packages/tensorflow_io/python/ops/libtensorflow_io_plugins.so']\n",
      "caused by: ['/opt/conda/lib/python3.10/site-packages/tensorflow_io/python/ops/libtensorflow_io_plugins.so: undefined symbol: _ZN3tsl6StatusC1EN10tensorflow5error4CodeESt17basic_string_viewIcSt11char_traitsIcEENS_14SourceLocationE']\n",
      "  warnings.warn(f\"unable to load libtensorflow_io_plugins.so: {e}\")\n",
      "/opt/conda/lib/python3.10/site-packages/tensorflow_io/python/ops/__init__.py:104: UserWarning: file system plugins are not loaded: unable to open file: libtensorflow_io.so, from paths: ['/opt/conda/lib/python3.10/site-packages/tensorflow_io/python/ops/libtensorflow_io.so']\n",
      "caused by: ['/opt/conda/lib/python3.10/site-packages/tensorflow_io/python/ops/libtensorflow_io.so: undefined symbol: _ZTVN10tensorflow13GcsFileSystemE']\n",
      "  warnings.warn(f\"file system plugins are not loaded: {e}\")\n"
     ]
    }
   ],
   "source": [
    "import seaborn as sns\n",
    "import matplotlib.pyplot as plt\n",
    "import tensorflow as tf "
   ]
  },
  {
   "cell_type": "markdown",
   "id": "6f62fded",
   "metadata": {
    "papermill": {
     "duration": 0.008234,
     "end_time": "2023-06-14T06:53:52.651211",
     "exception": false,
     "start_time": "2023-06-14T06:53:52.642977",
     "status": "completed"
    },
    "tags": []
   },
   "source": [
    "## Reading the data from the csv files"
   ]
  },
  {
   "cell_type": "code",
   "execution_count": 3,
   "id": "1ec724a5",
   "metadata": {
    "execution": {
     "iopub.execute_input": "2023-06-14T06:53:52.669706Z",
     "iopub.status.busy": "2023-06-14T06:53:52.668878Z",
     "iopub.status.idle": "2023-06-14T06:53:57.084029Z",
     "shell.execute_reply": "2023-06-14T06:53:57.082802Z"
    },
    "papermill": {
     "duration": 4.426914,
     "end_time": "2023-06-14T06:53:57.086638",
     "exception": false,
     "start_time": "2023-06-14T06:53:52.659724",
     "status": "completed"
    },
    "tags": []
   },
   "outputs": [],
   "source": [
    "train_data = pd.read_csv('/kaggle/input/sign-language-mnist/sign_mnist_train/sign_mnist_train.csv')\n",
    "test_data = pd.read_csv('/kaggle/input/sign-language-mnist/sign_mnist_test/sign_mnist_test.csv')"
   ]
  },
  {
   "cell_type": "markdown",
   "id": "558e8f1f",
   "metadata": {
    "papermill": {
     "duration": 0.008385,
     "end_time": "2023-06-14T06:53:57.103678",
     "exception": false,
     "start_time": "2023-06-14T06:53:57.095293",
     "status": "completed"
    },
    "tags": []
   },
   "source": [
    "## 2. Visualizing the data\n",
    "It's a good idea to view the data to get a feel of what the dataset actually looks like"
   ]
  },
  {
   "cell_type": "code",
   "execution_count": 4,
   "id": "eec29a8a",
   "metadata": {
    "execution": {
     "iopub.execute_input": "2023-06-14T06:53:57.122229Z",
     "iopub.status.busy": "2023-06-14T06:53:57.121924Z",
     "iopub.status.idle": "2023-06-14T06:53:57.144153Z",
     "shell.execute_reply": "2023-06-14T06:53:57.143129Z"
    },
    "papermill": {
     "duration": 0.034192,
     "end_time": "2023-06-14T06:53:57.146762",
     "exception": false,
     "start_time": "2023-06-14T06:53:57.112570",
     "status": "completed"
    },
    "tags": []
   },
   "outputs": [
    {
     "data": {
      "text/html": [
       "<div>\n",
       "<style scoped>\n",
       "    .dataframe tbody tr th:only-of-type {\n",
       "        vertical-align: middle;\n",
       "    }\n",
       "\n",
       "    .dataframe tbody tr th {\n",
       "        vertical-align: top;\n",
       "    }\n",
       "\n",
       "    .dataframe thead th {\n",
       "        text-align: right;\n",
       "    }\n",
       "</style>\n",
       "<table border=\"1\" class=\"dataframe\">\n",
       "  <thead>\n",
       "    <tr style=\"text-align: right;\">\n",
       "      <th></th>\n",
       "      <th>label</th>\n",
       "      <th>pixel1</th>\n",
       "      <th>pixel2</th>\n",
       "      <th>pixel3</th>\n",
       "      <th>pixel4</th>\n",
       "      <th>pixel5</th>\n",
       "      <th>pixel6</th>\n",
       "      <th>pixel7</th>\n",
       "      <th>pixel8</th>\n",
       "      <th>pixel9</th>\n",
       "      <th>...</th>\n",
       "      <th>pixel775</th>\n",
       "      <th>pixel776</th>\n",
       "      <th>pixel777</th>\n",
       "      <th>pixel778</th>\n",
       "      <th>pixel779</th>\n",
       "      <th>pixel780</th>\n",
       "      <th>pixel781</th>\n",
       "      <th>pixel782</th>\n",
       "      <th>pixel783</th>\n",
       "      <th>pixel784</th>\n",
       "    </tr>\n",
       "  </thead>\n",
       "  <tbody>\n",
       "    <tr>\n",
       "      <th>0</th>\n",
       "      <td>3</td>\n",
       "      <td>107</td>\n",
       "      <td>118</td>\n",
       "      <td>127</td>\n",
       "      <td>134</td>\n",
       "      <td>139</td>\n",
       "      <td>143</td>\n",
       "      <td>146</td>\n",
       "      <td>150</td>\n",
       "      <td>153</td>\n",
       "      <td>...</td>\n",
       "      <td>207</td>\n",
       "      <td>207</td>\n",
       "      <td>207</td>\n",
       "      <td>207</td>\n",
       "      <td>206</td>\n",
       "      <td>206</td>\n",
       "      <td>206</td>\n",
       "      <td>204</td>\n",
       "      <td>203</td>\n",
       "      <td>202</td>\n",
       "    </tr>\n",
       "    <tr>\n",
       "      <th>1</th>\n",
       "      <td>6</td>\n",
       "      <td>155</td>\n",
       "      <td>157</td>\n",
       "      <td>156</td>\n",
       "      <td>156</td>\n",
       "      <td>156</td>\n",
       "      <td>157</td>\n",
       "      <td>156</td>\n",
       "      <td>158</td>\n",
       "      <td>158</td>\n",
       "      <td>...</td>\n",
       "      <td>69</td>\n",
       "      <td>149</td>\n",
       "      <td>128</td>\n",
       "      <td>87</td>\n",
       "      <td>94</td>\n",
       "      <td>163</td>\n",
       "      <td>175</td>\n",
       "      <td>103</td>\n",
       "      <td>135</td>\n",
       "      <td>149</td>\n",
       "    </tr>\n",
       "    <tr>\n",
       "      <th>2</th>\n",
       "      <td>2</td>\n",
       "      <td>187</td>\n",
       "      <td>188</td>\n",
       "      <td>188</td>\n",
       "      <td>187</td>\n",
       "      <td>187</td>\n",
       "      <td>186</td>\n",
       "      <td>187</td>\n",
       "      <td>188</td>\n",
       "      <td>187</td>\n",
       "      <td>...</td>\n",
       "      <td>202</td>\n",
       "      <td>201</td>\n",
       "      <td>200</td>\n",
       "      <td>199</td>\n",
       "      <td>198</td>\n",
       "      <td>199</td>\n",
       "      <td>198</td>\n",
       "      <td>195</td>\n",
       "      <td>194</td>\n",
       "      <td>195</td>\n",
       "    </tr>\n",
       "    <tr>\n",
       "      <th>3</th>\n",
       "      <td>2</td>\n",
       "      <td>211</td>\n",
       "      <td>211</td>\n",
       "      <td>212</td>\n",
       "      <td>212</td>\n",
       "      <td>211</td>\n",
       "      <td>210</td>\n",
       "      <td>211</td>\n",
       "      <td>210</td>\n",
       "      <td>210</td>\n",
       "      <td>...</td>\n",
       "      <td>235</td>\n",
       "      <td>234</td>\n",
       "      <td>233</td>\n",
       "      <td>231</td>\n",
       "      <td>230</td>\n",
       "      <td>226</td>\n",
       "      <td>225</td>\n",
       "      <td>222</td>\n",
       "      <td>229</td>\n",
       "      <td>163</td>\n",
       "    </tr>\n",
       "    <tr>\n",
       "      <th>4</th>\n",
       "      <td>13</td>\n",
       "      <td>164</td>\n",
       "      <td>167</td>\n",
       "      <td>170</td>\n",
       "      <td>172</td>\n",
       "      <td>176</td>\n",
       "      <td>179</td>\n",
       "      <td>180</td>\n",
       "      <td>184</td>\n",
       "      <td>185</td>\n",
       "      <td>...</td>\n",
       "      <td>92</td>\n",
       "      <td>105</td>\n",
       "      <td>105</td>\n",
       "      <td>108</td>\n",
       "      <td>133</td>\n",
       "      <td>163</td>\n",
       "      <td>157</td>\n",
       "      <td>163</td>\n",
       "      <td>164</td>\n",
       "      <td>179</td>\n",
       "    </tr>\n",
       "  </tbody>\n",
       "</table>\n",
       "<p>5 rows × 785 columns</p>\n",
       "</div>"
      ],
      "text/plain": [
       "   label  pixel1  pixel2  pixel3  pixel4  pixel5  pixel6  pixel7  pixel8  \\\n",
       "0      3     107     118     127     134     139     143     146     150   \n",
       "1      6     155     157     156     156     156     157     156     158   \n",
       "2      2     187     188     188     187     187     186     187     188   \n",
       "3      2     211     211     212     212     211     210     211     210   \n",
       "4     13     164     167     170     172     176     179     180     184   \n",
       "\n",
       "   pixel9  ...  pixel775  pixel776  pixel777  pixel778  pixel779  pixel780  \\\n",
       "0     153  ...       207       207       207       207       206       206   \n",
       "1     158  ...        69       149       128        87        94       163   \n",
       "2     187  ...       202       201       200       199       198       199   \n",
       "3     210  ...       235       234       233       231       230       226   \n",
       "4     185  ...        92       105       105       108       133       163   \n",
       "\n",
       "   pixel781  pixel782  pixel783  pixel784  \n",
       "0       206       204       203       202  \n",
       "1       175       103       135       149  \n",
       "2       198       195       194       195  \n",
       "3       225       222       229       163  \n",
       "4       157       163       164       179  \n",
       "\n",
       "[5 rows x 785 columns]"
      ]
     },
     "execution_count": 4,
     "metadata": {},
     "output_type": "execute_result"
    }
   ],
   "source": [
    "train_data.head()"
   ]
  },
  {
   "cell_type": "code",
   "execution_count": 5,
   "id": "f68adb6c",
   "metadata": {
    "execution": {
     "iopub.execute_input": "2023-06-14T06:53:57.165474Z",
     "iopub.status.busy": "2023-06-14T06:53:57.165195Z",
     "iopub.status.idle": "2023-06-14T06:53:57.629475Z",
     "shell.execute_reply": "2023-06-14T06:53:57.628566Z"
    },
    "papermill": {
     "duration": 0.475697,
     "end_time": "2023-06-14T06:53:57.631513",
     "exception": false,
     "start_time": "2023-06-14T06:53:57.155816",
     "status": "completed"
    },
    "tags": []
   },
   "outputs": [
    {
     "data": {
      "text/plain": [
       "<Axes: xlabel='label', ylabel='count'>"
      ]
     },
     "execution_count": 5,
     "metadata": {},
     "output_type": "execute_result"
    },
    {
     "data": {
      "image/png": "[encoded data removed]",
      "text/plain": [
       "<Figure size 1000x1000 with 1 Axes>"
      ]
     },
     "metadata": {},
     "output_type": "display_data"
    }
   ],
   "source": [
    "# Create a countplot of all the labels\n",
    "plt.figure(figsize=(10,10))\n",
    "sns.countplot(data=train_data, x='label')"
   ]
  },
  {
   "cell_type": "markdown",
   "id": "8ef939db",
   "metadata": {
    "papermill": {
     "duration": 0.009389,
     "end_time": "2023-06-14T06:53:57.650184",
     "exception": false,
     "start_time": "2023-06-14T06:53:57.640795",
     "status": "completed"
    },
    "tags": []
   },
   "source": [
    "## 3. Normalizing and Reshaping the data"
   ]
  },
  {
   "cell_type": "code",
   "execution_count": 6,
   "id": "a884c493",
   "metadata": {
    "execution": {
     "iopub.execute_input": "2023-06-14T06:53:57.670153Z",
     "iopub.status.busy": "2023-06-14T06:53:57.669841Z",
     "iopub.status.idle": "2023-06-14T06:53:57.829058Z",
     "shell.execute_reply": "2023-06-14T06:53:57.827976Z"
    },
    "papermill": {
     "duration": 0.172381,
     "end_time": "2023-06-14T06:53:57.832201",
     "exception": false,
     "start_time": "2023-06-14T06:53:57.659820",
     "status": "completed"
    },
    "tags": []
   },
   "outputs": [],
   "source": [
    "y_train = train_data['label']\n",
    "X_train = train_data.drop('label', axis=1).values.reshape(-1, 28, 28, 1)\n",
    "y_test = test_data['label']\n",
    "X_test = test_data.drop('label', axis=1).values.reshape(-1, 28, 28, 1)\n",
    "\n",
    "X_train = X_train / 255.0\n",
    "X_test = X_test / 255.0"
   ]
  },
  {
   "cell_type": "code",
   "execution_count": 7,
   "id": "f9aa99fa",
   "metadata": {
    "execution": {
     "iopub.execute_input": "2023-06-14T06:53:57.853189Z",
     "iopub.status.busy": "2023-06-14T06:53:57.852887Z",
     "iopub.status.idle": "2023-06-14T06:53:57.860801Z",
     "shell.execute_reply": "2023-06-14T06:53:57.859804Z"
    },
    "papermill": {
     "duration": 0.02037,
     "end_time": "2023-06-14T06:53:57.862893",
     "exception": false,
     "start_time": "2023-06-14T06:53:57.842523",
     "status": "completed"
    },
    "tags": []
   },
   "outputs": [
    {
     "data": {
      "text/plain": [
       "[0,\n",
       " 1,\n",
       " 2,\n",
       " 3,\n",
       " 4,\n",
       " 5,\n",
       " 6,\n",
       " 7,\n",
       " 8,\n",
       " 10,\n",
       " 11,\n",
       " 12,\n",
       " 13,\n",
       " 14,\n",
       " 15,\n",
       " 16,\n",
       " 17,\n",
       " 18,\n",
       " 19,\n",
       " 20,\n",
       " 21,\n",
       " 22,\n",
       " 23,\n",
       " 24]"
      ]
     },
     "execution_count": 7,
     "metadata": {},
     "output_type": "execute_result"
    }
   ],
   "source": [
    "labels = y_train.unique().tolist()\n",
    "labels.sort()\n",
    "labels"
   ]
  },
  {
   "cell_type": "code",
   "execution_count": 8,
   "id": "0dc5b235",
   "metadata": {
    "execution": {
     "iopub.execute_input": "2023-06-14T06:53:57.882499Z",
     "iopub.status.busy": "2023-06-14T06:53:57.882232Z",
     "iopub.status.idle": "2023-06-14T06:53:57.888661Z",
     "shell.execute_reply": "2023-06-14T06:53:57.887849Z"
    },
    "papermill": {
     "duration": 0.018555,
     "end_time": "2023-06-14T06:53:57.890544",
     "exception": false,
     "start_time": "2023-06-14T06:53:57.871989",
     "status": "completed"
    },
    "tags": []
   },
   "outputs": [
    {
     "data": {
      "text/plain": [
       "['A',\n",
       " 'B',\n",
       " 'C',\n",
       " 'D',\n",
       " 'E',\n",
       " 'F',\n",
       " 'G',\n",
       " 'H',\n",
       " 'I',\n",
       " 'K',\n",
       " 'L',\n",
       " 'M',\n",
       " 'N',\n",
       " 'O',\n",
       " 'P',\n",
       " 'Q',\n",
       " 'R',\n",
       " 'S',\n",
       " 'T',\n",
       " 'U',\n",
       " 'V',\n",
       " 'W',\n",
       " 'X',\n",
       " 'Y']"
      ]
     },
     "execution_count": 8,
     "metadata": {},
     "output_type": "execute_result"
    }
   ],
   "source": [
    "# Getting the alphabets which are to be predicted\n",
    "classes = []\n",
    "for label in labels:\n",
    "    classes.append(chr(label + 65))\n",
    "classes"
   ]
  },
  {
   "cell_type": "markdown",
   "id": "36e2a167",
   "metadata": {
    "papermill": {
     "duration": 0.009065,
     "end_time": "2023-06-14T06:53:57.908804",
     "exception": false,
     "start_time": "2023-06-14T06:53:57.899739",
     "status": "completed"
    },
    "tags": []
   },
   "source": [
    "## 4. Let's view some of the actual images"
   ]
  },
  {
   "cell_type": "markdown",
   "id": "b062b25d",
   "metadata": {
    "papermill": {
     "duration": 0.009544,
     "end_time": "2023-06-14T06:53:57.927652",
     "exception": false,
     "start_time": "2023-06-14T06:53:57.918108",
     "status": "completed"
    },
    "tags": []
   },
   "source": [
    "Images from the training set"
   ]
  },
  {
   "cell_type": "code",
   "execution_count": 9,
   "id": "08bcb229",
   "metadata": {
    "execution": {
     "iopub.execute_input": "2023-06-14T06:53:57.948324Z",
     "iopub.status.busy": "2023-06-14T06:53:57.947509Z",
     "iopub.status.idle": "2023-06-14T06:53:59.091606Z",
     "shell.execute_reply": "2023-06-14T06:53:59.090673Z"
    },
    "papermill": {
     "duration": 1.157129,
     "end_time": "2023-06-14T06:53:59.094066",
     "exception": false,
     "start_time": "2023-06-14T06:53:57.936937",
     "status": "completed"
    },
    "tags": []
   },
   "outputs": [
    {
     "data": {
      "image/png": "[encoded data removed]",
      "text/plain": [
       "<Figure size 1000x1000 with 25 Axes>"
      ]
     },
     "metadata": {},
     "output_type": "display_data"
    }
   ],
   "source": [
    "plt.figure(figsize=(10, 10))\n",
    "for i in range(25):\n",
    "    plt.subplot(5, 5, i+1)\n",
    "    plt.xticks([])\n",
    "    plt.yticks([])\n",
    "    plt.grid(False)\n",
    "    plt.imshow(X_train[i], cmap='gray')\n",
    "    plt.xlabel(classes[y_train[i]])\n",
    "plt.show()"
   ]
  },
  {
   "cell_type": "markdown",
   "id": "23f20148",
   "metadata": {
    "papermill": {
     "duration": 0.010481,
     "end_time": "2023-06-14T06:53:59.115006",
     "exception": false,
     "start_time": "2023-06-14T06:53:59.104525",
     "status": "completed"
    },
    "tags": []
   },
   "source": [
    "Images from the test set"
   ]
  },
  {
   "cell_type": "code",
   "execution_count": 10,
   "id": "540ca916",
   "metadata": {
    "execution": {
     "iopub.execute_input": "2023-06-14T06:53:59.136958Z",
     "iopub.status.busy": "2023-06-14T06:53:59.136626Z",
     "iopub.status.idle": "2023-06-14T06:54:00.235977Z",
     "shell.execute_reply": "2023-06-14T06:54:00.235061Z"
    },
    "papermill": {
     "duration": 1.112688,
     "end_time": "2023-06-14T06:54:00.238150",
     "exception": false,
     "start_time": "2023-06-14T06:53:59.125462",
     "status": "completed"
    },
    "tags": []
   },
   "outputs": [
    {
     "data": {
      "image/png": "[encoded data removed]",
      "text/plain": [
       "<Figure size 1000x1000 with 25 Axes>"
      ]
     },
     "metadata": {},
     "output_type": "display_data"
    }
   ],
   "source": [
    "plt.figure(figsize=(10, 10))\n",
    "for i in range(25):\n",
    "    plt.subplot(5, 5, i+1)\n",
    "    plt.xticks([])\n",
    "    plt.yticks([])\n",
    "    plt.grid(False)\n",
    "    plt.imshow(X_test[i], cmap='gray')\n",
    "    plt.xlabel(classes[y_test[i]])\n",
    "plt.show()"
   ]
  },
  {
   "cell_type": "markdown",
   "id": "dffbb4c0",
   "metadata": {
    "papermill": {
     "duration": 0.01149,
     "end_time": "2023-06-14T06:54:00.261108",
     "exception": false,
     "start_time": "2023-06-14T06:54:00.249618",
     "status": "completed"
    },
    "tags": []
   },
   "source": [
    "## 5. Binarizing the labels\n",
    "Binarizing categorical data consisting of multiple classes involves converting the categorical data into a binary format. This is typically done using a technique called one-hot encoding. One-hot encoding creates a binary vector for each class, where the vector has a length equal to the number of classes and has a 1 in the position corresponding to the class and 0s elsewhere. This allows the categorical data to be represented in a format that can be used by machine learning models. We will use the `LabelBinarizer` class from `sklearn.preprocessing` for this purpose."
   ]
  },
  {
   "cell_type": "code",
   "execution_count": 11,
   "id": "1ab49a08",
   "metadata": {
    "execution": {
     "iopub.execute_input": "2023-06-14T06:54:00.285027Z",
     "iopub.status.busy": "2023-06-14T06:54:00.284433Z",
     "iopub.status.idle": "2023-06-14T06:54:00.409990Z",
     "shell.execute_reply": "2023-06-14T06:54:00.408978Z"
    },
    "papermill": {
     "duration": 0.140087,
     "end_time": "2023-06-14T06:54:00.412352",
     "exception": false,
     "start_time": "2023-06-14T06:54:00.272265",
     "status": "completed"
    },
    "tags": []
   },
   "outputs": [],
   "source": [
    "from sklearn import preprocessing\n",
    "\n",
    "lb = preprocessing.LabelBinarizer()\n",
    "lb.fit(y_train)\n",
    "y_train_binarized = lb.transform(y_train)\n",
    "y_test_binarized = lb.transform(y_test)"
   ]
  },
  {
   "cell_type": "markdown",
   "id": "070d7afb",
   "metadata": {
    "papermill": {
     "duration": 0.014114,
     "end_time": "2023-06-14T06:54:00.438363",
     "exception": false,
     "start_time": "2023-06-14T06:54:00.424249",
     "status": "completed"
    },
    "tags": []
   },
   "source": [
    "Let's see what binarizing did to `y_train`."
   ]
  },
  {
   "cell_type": "code",
   "execution_count": 12,
   "id": "c97bc4db",
   "metadata": {
    "execution": {
     "iopub.execute_input": "2023-06-14T06:54:00.462580Z",
     "iopub.status.busy": "2023-06-14T06:54:00.461759Z",
     "iopub.status.idle": "2023-06-14T06:54:00.468540Z",
     "shell.execute_reply": "2023-06-14T06:54:00.467545Z"
    },
    "papermill": {
     "duration": 0.020961,
     "end_time": "2023-06-14T06:54:00.470560",
     "exception": false,
     "start_time": "2023-06-14T06:54:00.449599",
     "status": "completed"
    },
    "tags": []
   },
   "outputs": [
    {
     "data": {
      "text/plain": [
       "array([[0, 0, 0, ..., 0, 0, 0],\n",
       "       [0, 0, 0, ..., 0, 0, 0],\n",
       "       [0, 0, 1, ..., 0, 0, 0],\n",
       "       ...,\n",
       "       [0, 0, 0, ..., 0, 0, 0],\n",
       "       [0, 0, 0, ..., 0, 0, 0],\n",
       "       [0, 0, 0, ..., 0, 1, 0]])"
      ]
     },
     "execution_count": 12,
     "metadata": {},
     "output_type": "execute_result"
    }
   ],
   "source": [
    "y_train_binarized"
   ]
  },
  {
   "cell_type": "markdown",
   "id": "bf507925",
   "metadata": {
    "papermill": {
     "duration": 0.011089,
     "end_time": "2023-06-14T06:54:00.494125",
     "exception": false,
     "start_time": "2023-06-14T06:54:00.483036",
     "status": "completed"
    },
    "tags": []
   },
   "source": [
    "Binarizing the labels did one-hot-encoding to the labels"
   ]
  },
  {
   "cell_type": "code",
   "execution_count": 13,
   "id": "a490d602",
   "metadata": {
    "execution": {
     "iopub.execute_input": "2023-06-14T06:54:00.518458Z",
     "iopub.status.busy": "2023-06-14T06:54:00.517758Z",
     "iopub.status.idle": "2023-06-14T06:54:00.523326Z",
     "shell.execute_reply": "2023-06-14T06:54:00.522456Z"
    },
    "papermill": {
     "duration": 0.019651,
     "end_time": "2023-06-14T06:54:00.525275",
     "exception": false,
     "start_time": "2023-06-14T06:54:00.505624",
     "status": "completed"
    },
    "tags": []
   },
   "outputs": [
    {
     "data": {
      "text/plain": [
       "(27455, 24)"
      ]
     },
     "execution_count": 13,
     "metadata": {},
     "output_type": "execute_result"
    }
   ],
   "source": [
    "y_train_binarized.shape"
   ]
  },
  {
   "cell_type": "markdown",
   "id": "28f64cd8",
   "metadata": {
    "papermill": {
     "duration": 0.011205,
     "end_time": "2023-06-14T06:54:00.547809",
     "exception": false,
     "start_time": "2023-06-14T06:54:00.536604",
     "status": "completed"
    },
    "tags": []
   },
   "source": [
    "## 6. Let's build the model"
   ]
  },
  {
   "cell_type": "markdown",
   "id": "d58689a0",
   "metadata": {
    "papermill": {
     "duration": 0.011374,
     "end_time": "2023-06-14T06:54:00.570675",
     "exception": false,
     "start_time": "2023-06-14T06:54:00.559301",
     "status": "completed"
    },
    "tags": []
   },
   "source": [
    "We'll build a Convolutional Neural Network architecture for this"
   ]
  },
  {
   "cell_type": "code",
   "execution_count": 14,
   "id": "59b7fc99",
   "metadata": {
    "execution": {
     "iopub.execute_input": "2023-06-14T06:54:00.595382Z",
     "iopub.status.busy": "2023-06-14T06:54:00.594494Z",
     "iopub.status.idle": "2023-06-14T06:54:03.788796Z",
     "shell.execute_reply": "2023-06-14T06:54:03.787798Z"
    },
    "papermill": {
     "duration": 3.208997,
     "end_time": "2023-06-14T06:54:03.791230",
     "exception": false,
     "start_time": "2023-06-14T06:54:00.582233",
     "status": "completed"
    },
    "tags": []
   },
   "outputs": [],
   "source": [
    "model = tf.keras.models.Sequential([\n",
    "    tf.keras.layers.Conv2D(32, (3, 3), activation='relu', input_shape=(28, 28, 1)),\n",
    "    tf.keras.layers.MaxPooling2D((2, 2)),\n",
    "    tf.keras.layers.Conv2D(64, (3, 3), activation='relu'),\n",
    "    tf.keras.layers.MaxPooling2D((2, 2)),\n",
    "    tf.keras.layers.Flatten(),\n",
    "    tf.keras.layers.Dense(128, activation='relu'),\n",
    "    tf.keras.layers.Dense(24, activation='softmax')\n",
    "])"
   ]
  },
  {
   "cell_type": "code",
   "execution_count": 15,
   "id": "9c6c296f",
   "metadata": {
    "execution": {
     "iopub.execute_input": "2023-06-14T06:54:03.817953Z",
     "iopub.status.busy": "2023-06-14T06:54:03.816307Z",
     "iopub.status.idle": "2023-06-14T06:54:03.843806Z",
     "shell.execute_reply": "2023-06-14T06:54:03.842800Z"
    },
    "papermill": {
     "duration": 0.052781,
     "end_time": "2023-06-14T06:54:03.856109",
     "exception": false,
     "start_time": "2023-06-14T06:54:03.803328",
     "status": "completed"
    },
    "tags": []
   },
   "outputs": [
    {
     "name": "stdout",
     "output_type": "stream",
     "text": [
      "Model: \"sequential\"\n",
      "_________________________________________________________________\n",
      " Layer (type)                Output Shape              Param #   \n",
      "=================================================================\n",
      " conv2d (Conv2D)             (None, 26, 26, 32)        320       \n",
      "                                                                 \n",
      " max_pooling2d (MaxPooling2D  (None, 13, 13, 32)       0         \n",
      " )                                                               \n",
      "                                                                 \n",
      " conv2d_1 (Conv2D)           (None, 11, 11, 64)        18496     \n",
      "                                                                 \n",
      " max_pooling2d_1 (MaxPooling  (None, 5, 5, 64)         0         \n",
      " 2D)                                                             \n",
      "                                                                 \n",
      " flatten (Flatten)           (None, 1600)              0         \n",
      "                                                                 \n",
      " dense (Dense)               (None, 128)               204928    \n",
      "                                                                 \n",
      " dense_1 (Dense)             (None, 24)                3096      \n",
      "                                                                 \n",
      "=================================================================\n",
      "Total params: 226,840\n",
      "Trainable params: 226,840\n",
      "Non-trainable params: 0\n",
      "_________________________________________________________________\n"
     ]
    }
   ],
   "source": [
    "model.summary()"
   ]
  },
  {
   "cell_type": "markdown",
   "id": "5f1ed636",
   "metadata": {
    "papermill": {
     "duration": 0.012954,
     "end_time": "2023-06-14T06:54:03.882421",
     "exception": false,
     "start_time": "2023-06-14T06:54:03.869467",
     "status": "completed"
    },
    "tags": []
   },
   "source": [
    "## 7. Training the model"
   ]
  },
  {
   "cell_type": "code",
   "execution_count": 16,
   "id": "977ef1db",
   "metadata": {
    "execution": {
     "iopub.execute_input": "2023-06-14T06:54:03.910069Z",
     "iopub.status.busy": "2023-06-14T06:54:03.909790Z",
     "iopub.status.idle": "2023-06-14T06:54:45.988814Z",
     "shell.execute_reply": "2023-06-14T06:54:45.987750Z"
    },
    "papermill": {
     "duration": 42.095663,
     "end_time": "2023-06-14T06:54:45.991340",
     "exception": false,
     "start_time": "2023-06-14T06:54:03.895677",
     "status": "completed"
    },
    "tags": []
   },
   "outputs": [
    {
     "name": "stdout",
     "output_type": "stream",
     "text": [
      "Epoch 1/20\n",
      "172/172 [==============================] - 9s 7ms/step - loss: 1.6463 - accuracy: 0.5282 - val_loss: 0.5789 - val_accuracy: 0.8246\n",
      "Epoch 2/20\n",
      "172/172 [==============================] - 1s 6ms/step - loss: 0.3591 - accuracy: 0.8977 - val_loss: 0.2162 - val_accuracy: 0.9394\n",
      "Epoch 3/20\n",
      "172/172 [==============================] - 1s 5ms/step - loss: 0.1077 - accuracy: 0.9803 - val_loss: 0.0526 - val_accuracy: 0.9960\n",
      "Epoch 4/20\n",
      "172/172 [==============================] - 1s 5ms/step - loss: 0.0365 - accuracy: 0.9975 - val_loss: 0.0216 - val_accuracy: 0.9984\n",
      "Epoch 5/20\n",
      "172/172 [==============================] - 1s 5ms/step - loss: 0.0154 - accuracy: 0.9996 - val_loss: 0.0152 - val_accuracy: 0.9996\n",
      "Epoch 6/20\n",
      "172/172 [==============================] - 1s 5ms/step - loss: 0.0077 - accuracy: 1.0000 - val_loss: 0.0061 - val_accuracy: 1.0000\n",
      "Epoch 7/20\n",
      "172/172 [==============================] - 1s 5ms/step - loss: 0.0046 - accuracy: 1.0000 - val_loss: 0.0041 - val_accuracy: 1.0000\n",
      "Epoch 8/20\n",
      "172/172 [==============================] - 1s 5ms/step - loss: 0.0030 - accuracy: 1.0000 - val_loss: 0.0030 - val_accuracy: 1.0000\n",
      "Epoch 9/20\n",
      "172/172 [==============================] - 1s 5ms/step - loss: 0.0021 - accuracy: 1.0000 - val_loss: 0.0020 - val_accuracy: 1.0000\n",
      "Epoch 10/20\n",
      "172/172 [==============================] - 1s 5ms/step - loss: 0.0016 - accuracy: 1.0000 - val_loss: 0.0016 - val_accuracy: 1.0000\n",
      "Epoch 11/20\n",
      "172/172 [==============================] - 1s 5ms/step - loss: 0.0012 - accuracy: 1.0000 - val_loss: 0.0013 - val_accuracy: 1.0000\n",
      "Epoch 12/20\n",
      "172/172 [==============================] - 1s 5ms/step - loss: 9.1284e-04 - accuracy: 1.0000 - val_loss: 0.0010 - val_accuracy: 1.0000\n",
      "Epoch 13/20\n",
      "172/172 [==============================] - 1s 5ms/step - loss: 7.1650e-04 - accuracy: 1.0000 - val_loss: 0.0011 - val_accuracy: 1.0000\n",
      "Epoch 14/20\n",
      "172/172 [==============================] - 1s 5ms/step - loss: 5.7396e-04 - accuracy: 1.0000 - val_loss: 7.3678e-04 - val_accuracy: 1.0000\n",
      "Epoch 15/20\n",
      "172/172 [==============================] - 1s 5ms/step - loss: 4.9089e-04 - accuracy: 1.0000 - val_loss: 6.2609e-04 - val_accuracy: 1.0000\n",
      "Epoch 16/20\n",
      "172/172 [==============================] - 1s 5ms/step - loss: 4.0321e-04 - accuracy: 1.0000 - val_loss: 5.0783e-04 - val_accuracy: 1.0000\n",
      "Epoch 17/20\n",
      "172/172 [==============================] - 1s 5ms/step - loss: 3.4201e-04 - accuracy: 1.0000 - val_loss: 5.2776e-04 - val_accuracy: 1.0000\n",
      "Epoch 18/20\n",
      "172/172 [==============================] - 1s 5ms/step - loss: 2.8758e-04 - accuracy: 1.0000 - val_loss: 3.4191e-04 - val_accuracy: 1.0000\n",
      "Epoch 19/20\n",
      "172/172 [==============================] - 1s 5ms/step - loss: 2.4515e-04 - accuracy: 1.0000 - val_loss: 3.3755e-04 - val_accuracy: 1.0000\n",
      "Epoch 20/20\n",
      "172/172 [==============================] - 1s 5ms/step - loss: 2.1352e-04 - accuracy: 1.0000 - val_loss: 3.4486e-04 - val_accuracy: 1.0000\n"
     ]
    }
   ],
   "source": [
    "model.compile(\n",
    "    optimizer='adam',\n",
    "    loss='categorical_crossentropy',\n",
    "    metrics=['accuracy']\n",
    ")\n",
    "\n",
    "history = model.fit(X_train, y_train_binarized, validation_split=0.2, epochs=20, batch_size=128)"
   ]
  },
  {
   "cell_type": "markdown",
   "id": "06e62739",
   "metadata": {
    "papermill": {
     "duration": 0.036802,
     "end_time": "2023-06-14T06:54:46.066327",
     "exception": false,
     "start_time": "2023-06-14T06:54:46.029525",
     "status": "completed"
    },
    "tags": []
   },
   "source": [
    "## 8. Let's evaluate the model's performance"
   ]
  },
  {
   "cell_type": "code",
   "execution_count": 17,
   "id": "a296a02b",
   "metadata": {
    "execution": {
     "iopub.execute_input": "2023-06-14T06:54:46.141615Z",
     "iopub.status.busy": "2023-06-14T06:54:46.141264Z",
     "iopub.status.idle": "2023-06-14T06:54:46.951624Z",
     "shell.execute_reply": "2023-06-14T06:54:46.950605Z"
    },
    "papermill": {
     "duration": 0.850644,
     "end_time": "2023-06-14T06:54:46.953788",
     "exception": false,
     "start_time": "2023-06-14T06:54:46.103144",
     "status": "completed"
    },
    "tags": []
   },
   "outputs": [
    {
     "name": "stdout",
     "output_type": "stream",
     "text": [
      "225/225 [==============================] - 1s 3ms/step - loss: 0.3568 - accuracy: 0.9257\n"
     ]
    },
    {
     "data": {
      "text/plain": [
       "[0.35680556297302246, 0.9256832003593445]"
      ]
     },
     "execution_count": 17,
     "metadata": {},
     "output_type": "execute_result"
    }
   ],
   "source": [
    "model.evaluate(X_test, y_test_binarized)"
   ]
  },
  {
   "cell_type": "markdown",
   "id": "68306f51",
   "metadata": {
    "papermill": {
     "duration": 0.03806,
     "end_time": "2023-06-14T06:54:47.032386",
     "exception": false,
     "start_time": "2023-06-14T06:54:46.994326",
     "status": "completed"
    },
    "tags": []
   },
   "source": [
    "## 9. Let's plot the graphs that define the change in accuracy and loss while training"
   ]
  },
  {
   "cell_type": "code",
   "execution_count": 18,
   "id": "7b9b5d05",
   "metadata": {
    "execution": {
     "iopub.execute_input": "2023-06-14T06:54:47.109867Z",
     "iopub.status.busy": "2023-06-14T06:54:47.109498Z",
     "iopub.status.idle": "2023-06-14T06:54:48.042062Z",
     "shell.execute_reply": "2023-06-14T06:54:48.041087Z"
    },
    "papermill": {
     "duration": 0.973925,
     "end_time": "2023-06-14T06:54:48.044230",
     "exception": false,
     "start_time": "2023-06-14T06:54:47.070305",
     "status": "completed"
    },
    "tags": []
   },
   "outputs": [
    {
     "name": "stdout",
     "output_type": "stream",
     "text": [
      "225/225 - 0s - loss: 0.3568 - accuracy: 0.9257 - 499ms/epoch - 2ms/step\n"
     ]
    },
    {
     "data": {
      "image/png": "[encoded data removed]",
      "text/plain": [
       "<Figure size 640x480 with 1 Axes>"
      ]
     },
     "metadata": {},
     "output_type": "display_data"
    }
   ],
   "source": [
    "plt.plot(history.history['accuracy'], label='accuracy')\n",
    "plt.plot(history.history['val_accuracy'], label='val_accuracy')\n",
    "plt.plot(history.history['loss'], label='loss')\n",
    "plt.plot(history.history['val_loss'], label='val_loss')\n",
    "\n",
    "plt.xlabel('Epoch')\n",
    "plt.ylabel('Accuracy')\n",
    "plt.legend(loc='upper right')\n",
    "\n",
    "test_loss, test_acc = model.evaluate(X_test, y_test_binarized, verbose=2)"
   ]
  },
  {
   "cell_type": "code",
   "execution_count": 19,
   "id": "f6e63f87",
   "metadata": {
    "execution": {
     "iopub.execute_input": "2023-06-14T06:54:48.122847Z",
     "iopub.status.busy": "2023-06-14T06:54:48.122493Z",
     "iopub.status.idle": "2023-06-14T06:54:48.127395Z",
     "shell.execute_reply": "2023-06-14T06:54:48.126503Z"
    },
    "papermill": {
     "duration": 0.046788,
     "end_time": "2023-06-14T06:54:48.129742",
     "exception": false,
     "start_time": "2023-06-14T06:54:48.082954",
     "status": "completed"
    },
    "tags": []
   },
   "outputs": [
    {
     "name": "stdout",
     "output_type": "stream",
     "text": [
      "Test accuracy is 92.57%\n"
     ]
    }
   ],
   "source": [
    "print(f'Test accuracy is {test_acc * 100:.2f}%')"
   ]
  },
  {
   "cell_type": "markdown",
   "id": "e39531fa",
   "metadata": {
    "papermill": {
     "duration": 0.038942,
     "end_time": "2023-06-14T06:54:48.207151",
     "exception": false,
     "start_time": "2023-06-14T06:54:48.168209",
     "status": "completed"
    },
    "tags": []
   },
   "source": [
    "## 10. Run the cell below to get the prediction for a random Sign Language"
   ]
  },
  {
   "cell_type": "code",
   "execution_count": 20,
   "id": "01da512f",
   "metadata": {
    "execution": {
     "iopub.execute_input": "2023-06-14T06:54:48.286047Z",
     "iopub.status.busy": "2023-06-14T06:54:48.285185Z",
     "iopub.status.idle": "2023-06-14T06:54:48.746579Z",
     "shell.execute_reply": "2023-06-14T06:54:48.745631Z"
    },
    "papermill": {
     "duration": 0.503078,
     "end_time": "2023-06-14T06:54:48.748786",
     "exception": false,
     "start_time": "2023-06-14T06:54:48.245708",
     "status": "completed"
    },
    "tags": []
   },
   "outputs": [
    {
     "name": "stdout",
     "output_type": "stream",
     "text": [
      "1/1 [==============================] - 0s 124ms/step\n"
     ]
    },
    {
     "data": {
      "image/png": "[encoded data removed]",
      "text/plain": [
       "<Figure size 640x480 with 1 Axes>"
      ]
     },
     "metadata": {},
     "output_type": "display_data"
    }
   ],
   "source": [
    "rand_idx = np.random.randint(0, len(X_test))\n",
    "\n",
    "image = X_test[rand_idx]\n",
    "label = y_test[rand_idx]\n",
    "\n",
    "prediction = model.predict(np.expand_dims(image, axis=0))\n",
    "\n",
    "predicted_class = np.argmax(prediction)\n",
    "\n",
    "plt.imshow(image.squeeze(), cmap='gray')\n",
    "plt.title(f'Predicted: {classes[predicted_class]}, Actual: {classes[label] if label < 9 else classes[label - 1]}')\n",
    "plt.show()"
   ]
  },
  {
   "cell_type": "code",
   "execution_count": null,
   "id": "4e3acb48",
   "metadata": {
    "papermill": {
     "duration": 0.039393,
     "end_time": "2023-06-14T06:54:48.828054",
     "exception": false,
     "start_time": "2023-06-14T06:54:48.788661",
     "status": "completed"
    },
    "tags": []
   },
   "outputs": [],
   "source": []
  }
 ],
 "metadata": {
  "kernelspec": {
   "display_name": "Python 3",
   "language": "python",
   "name": "python3"
  },
  "language_info": {
   "codemirror_mode": {
    "name": "ipython",
    "version": 3
   },
   "file_extension": ".py",
   "mimetype": "text/x-python",
   "name": "python",
   "nbconvert_exporter": "python",
   "pygments_lexer": "ipython3",
   "version": "3.10.10"
  },
  "papermill": {
   "default_parameters": {},
   "duration": 77.681202,
   "end_time": "2023-06-14T06:54:51.975852",
   "environment_variables": {},
   "exception": null,
   "input_path": "__notebook__.ipynb",
   "output_path": "__notebook__.ipynb",
   "parameters": {},
   "start_time": "2023-06-14T06:53:34.294650",
   "version": "2.4.0"
  }
 },
 "nbformat": 4,
 "nbformat_minor": 5
}
